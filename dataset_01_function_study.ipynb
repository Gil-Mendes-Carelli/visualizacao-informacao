{
 "cells": [
  {
   "cell_type": "markdown",
   "metadata": {},
   "source": [
    "# Creating some functions for data filtering/manipulation"
   ]
  },
  {
   "cell_type": "code",
   "execution_count": 2,
   "metadata": {},
   "outputs": [],
   "source": [
    "import pandas as pd\n",
    "import matplotlib.pyplot as plt\n",
    "import missingno as msno\n",
    "from pandas.plotting import parallel_coordinates\n",
    "from typing import List"
   ]
  },
  {
   "cell_type": "code",
   "execution_count": 3,
   "metadata": {},
   "outputs": [],
   "source": [
    "# loading the data set\n",
    "df_01: pd.DataFrame = pd.read_csv(\"datasets\\climate_change_indicators.csv\")"
   ]
  },
  {
   "cell_type": "markdown",
   "metadata": {},
   "source": [
    "A function that generates a matrix of missing data (NaN)"
   ]
  },
  {
   "cell_type": "code",
   "execution_count": 4,
   "metadata": {},
   "outputs": [],
   "source": [
    "def missing_data_from(dataframe: pd.DataFrame) -> msno.matrix:\n",
    "    return msno.matrix(dataframe)"
   ]
  },
  {
   "cell_type": "markdown",
   "metadata": {},
   "source": [
    "A function to remove the instances with missing data"
   ]
  },
  {
   "cell_type": "code",
   "execution_count": 5,
   "metadata": {},
   "outputs": [],
   "source": [
    "def remove_nan_rows_from(dataframe: pd.DataFrame) -> pd.DataFrame:\n",
    "    return dataframe.dropna()"
   ]
  },
  {
   "cell_type": "markdown",
   "metadata": {},
   "source": [
    "A function to remove all object type columns but the label one"
   ]
  },
  {
   "cell_type": "code",
   "execution_count": 6,
   "metadata": {},
   "outputs": [],
   "source": [
    "def remove_object_columns_from(dataframe: pd.DataFrame, label_column: str) -> pd.DataFrame:\n",
    "    object_columns: List = dataframe.select_dtypes(include=\"object\").columns.to_list()\n",
    "    object_columns.remove(label_column)\n",
    "    return dataframe.drop(columns=object_columns)"
   ]
  },
  {
   "cell_type": "markdown",
   "metadata": {},
   "source": [
    "Now a function to reduce the dimension number"
   ]
  },
  {
   "cell_type": "code",
   "execution_count": 7,
   "metadata": {},
   "outputs": [],
   "source": [
    "def reduce_dimension_number_from(dataframe: pd.DataFrame, dimension_width: int = 9,) -> pd.DataFrame:\n",
    "    # recovering the number os columns in the dataframe\n",
    "    n_columns: int = len(dataframe.columns)\n",
    "    # selecting 3 columns from the beginning, middle and the end of the dataframe\n",
    "    first_dimension_sample: pd.DataFrame = dataframe.iloc[:, 1 : (dimension_width // 3)] # :,  1 to avoid the label column? is this right?\n",
    "    second_dimension_sample: pd.DataFrame = dataframe.iloc[\n",
    "        :, n_columns // 2 : (n_columns // 2) + (dimension_width // 3)\n",
    "    ]\n",
    "    third_dimension_sample: pd.DataFrame = dataframe.iloc[:, -(dimension_width // 3) :]\n",
    "    # joining the pieces together into a single dataframe\n",
    "    reduced_dimension_df: pd.DataFrame = pd.concat(\n",
    "        [first_dimension_sample, second_dimension_sample, third_dimension_sample],\n",
    "        axis=1,\n",
    "    )\n",
    "    \n",
    "    return reduced_dimension_df"
   ]
  },
  {
   "cell_type": "markdown",
   "metadata": {},
   "source": [
    "A function that checks if the 1st column is the label one (object type)"
   ]
  },
  {
   "cell_type": "code",
   "execution_count": 8,
   "metadata": {},
   "outputs": [],
   "source": [
    "def is_label_spot_correct(dataframe: pd.DataFrame) -> bool:\n",
    "    if dataframe.dtypes[0] == 'object':\n",
    "        return True\n",
    "    \n",
    "    return False"
   ]
  },
  {
   "cell_type": "code",
   "execution_count": 9,
   "metadata": {},
   "outputs": [],
   "source": [
    "# df_01 = df_01.drop(columns='ObjectId')\n",
    "# print(is_label_spot_correct(df_01))"
   ]
  }
 ],
 "metadata": {
  "kernelspec": {
   "display_name": "Python 3",
   "language": "python",
   "name": "python3"
  },
  "language_info": {
   "codemirror_mode": {
    "name": "ipython",
    "version": 3
   },
   "file_extension": ".py",
   "mimetype": "text/x-python",
   "name": "python",
   "nbconvert_exporter": "python",
   "pygments_lexer": "ipython3",
   "version": "3.11.9"
  }
 },
 "nbformat": 4,
 "nbformat_minor": 2
}
