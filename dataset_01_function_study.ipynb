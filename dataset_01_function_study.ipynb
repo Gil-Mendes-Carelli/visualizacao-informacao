{
 "cells": [
  {
   "cell_type": "markdown",
   "metadata": {},
   "source": [
    "# Creating some functions for data filtering/manipulation"
   ]
  },
  {
   "cell_type": "code",
   "execution_count": 1,
   "metadata": {},
   "outputs": [],
   "source": [
    "import pandas as pd\n",
    "import matplotlib.pyplot as plt\n",
    "import missingno as msno\n",
    "from pandas.plotting import parallel_coordinates\n",
    "from typing import List"
   ]
  },
  {
   "cell_type": "code",
   "execution_count": 2,
   "metadata": {},
   "outputs": [],
   "source": [
    "# loading the data set\n",
    "df_01: pd.DataFrame = pd.read_csv(\"datasets\\climate_change_indicators.csv\")"
   ]
  },
  {
   "cell_type": "markdown",
   "metadata": {},
   "source": [
    "A function that generates a matrix of missing data (NaN)"
   ]
  },
  {
   "cell_type": "code",
   "execution_count": 3,
   "metadata": {},
   "outputs": [],
   "source": [
    "def missing_data_from(dataframe: pd.DataFrame) -> msno.matrix:\n",
    "    return msno.matrix(dataframe)"
   ]
  },
  {
   "cell_type": "markdown",
   "metadata": {},
   "source": [
    "A function to remove the instances with missing data"
   ]
  },
  {
   "cell_type": "code",
   "execution_count": 4,
   "metadata": {},
   "outputs": [],
   "source": [
    "def remove_nan_rows_from(dataframe: pd.DataFrame) -> pd.DataFrame:\n",
    "    return dataframe.dropna()"
   ]
  },
  {
   "cell_type": "markdown",
   "metadata": {},
   "source": [
    "A function to remove all object type columns but the label one"
   ]
  },
  {
   "cell_type": "code",
   "execution_count": 5,
   "metadata": {},
   "outputs": [],
   "source": [
    "def remove_object_columns_from(dataframe: pd.DataFrame, label_column: str) -> pd.DataFrame:\n",
    "    object_columns: List = dataframe.select_dtypes(include=\"object\").columns.to_list()\n",
    "    object_columns.remove(label_column)\n",
    "    return dataframe.drop(columns=object_columns)"
   ]
  },
  {
   "cell_type": "markdown",
   "metadata": {},
   "source": [
    "Now a function to reduce the dimension number"
   ]
  },
  {
   "cell_type": "code",
   "execution_count": 6,
   "metadata": {},
   "outputs": [],
   "source": [
    "def reduce_dimension_number_from(dataframe: pd.DataFrame, dimension_width: int = 9,) -> pd.DataFrame:\n",
    "    # recovering the number os columns in the dataframe\n",
    "    n_columns: int = len(dataframe.columns)\n",
    "    # selecting 3 columns from the beginning, middle and the end of the dataframe\n",
    "    first_dimension_sample: pd.DataFrame = dataframe.iloc[:, 1 : (dimension_width // 3)] # :,  1 to avoid the label column? is this right?\n",
    "    second_dimension_sample: pd.DataFrame = dataframe.iloc[\n",
    "        :, n_columns // 2 : (n_columns // 2) + (dimension_width // 3)\n",
    "    ]\n",
    "    third_dimension_sample: pd.DataFrame = dataframe.iloc[:, -(dimension_width // 3) :]\n",
    "    # joining the pieces together into a single dataframe\n",
    "    reduced_dimension_df: pd.DataFrame = pd.concat(\n",
    "        [first_dimension_sample, second_dimension_sample, third_dimension_sample],\n",
    "        axis=1,\n",
    "    )\n",
    "    \n",
    "    return reduced_dimension_df"
   ]
  },
  {
   "cell_type": "markdown",
   "metadata": {},
   "source": [
    "A function that checks if the 1st column is the label one (object type)"
   ]
  },
  {
   "cell_type": "code",
   "execution_count": 7,
   "metadata": {},
   "outputs": [],
   "source": [
    "def is_label_spot_correct(dataframe: pd.DataFrame) -> bool:\n",
    "    if dataframe.dtypes[0] == 'object':\n",
    "        return True\n",
    "    \n",
    "    return False"
   ]
  },
  {
   "cell_type": "code",
   "execution_count": 8,
   "metadata": {},
   "outputs": [],
   "source": [
    "# def normalize_data_from(dataframe: pd.DataFrame) -> pd.DataFrame:\n",
    "#     numeric_columns = dataframe.select_dtypes(include=['float64', 'int64']).columns\n",
    "#     return (dataframe[numeric_columns] - dataframe[numeric_columns].mean()) / dataframe[numeric_columns].std()"
   ]
  },
  {
   "cell_type": "code",
   "execution_count": 9,
   "metadata": {},
   "outputs": [],
   "source": [
    "# df_02: pd.DataFrame = pd.read_csv(\"datasets\\climate_change_indicators.csv\")\n",
    "# aux_dataframe = normalize_data_from(df_02)\n",
    "# aux_dataframe.head()"
   ]
  },
  {
   "cell_type": "code",
   "execution_count": 14,
   "metadata": {},
   "outputs": [],
   "source": [
    "def normalize_data_from(dataframe: pd.DataFrame) -> pd.DataFrame:\n",
    "    aux_dataframe = dataframe.copy()  # Faz uma cópia do DataFrame original\n",
    "    numeric_columns = aux_dataframe.select_dtypes(include=['float64', 'int64']).columns\n",
    "    aux_dataframe[numeric_columns] = (aux_dataframe[numeric_columns] - aux_dataframe[numeric_columns].min()) / (\n",
    "        aux_dataframe[numeric_columns].max() - aux_dataframe[numeric_columns].min()\n",
    "    )\n",
    "    return aux_dataframe "
   ]
  },
  {
   "cell_type": "code",
   "execution_count": 15,
   "metadata": {},
   "outputs": [
    {
     "data": {
      "text/html": [
       "<div>\n",
       "<style scoped>\n",
       "    .dataframe tbody tr th:only-of-type {\n",
       "        vertical-align: middle;\n",
       "    }\n",
       "\n",
       "    .dataframe tbody tr th {\n",
       "        vertical-align: top;\n",
       "    }\n",
       "\n",
       "    .dataframe thead th {\n",
       "        text-align: right;\n",
       "    }\n",
       "</style>\n",
       "<table border=\"1\" class=\"dataframe\">\n",
       "  <thead>\n",
       "    <tr style=\"text-align: right;\">\n",
       "      <th></th>\n",
       "      <th>ObjectId</th>\n",
       "      <th>Country</th>\n",
       "      <th>ISO2</th>\n",
       "      <th>ISO3</th>\n",
       "      <th>Indicator</th>\n",
       "      <th>Unit</th>\n",
       "      <th>Source</th>\n",
       "      <th>CTS_Code</th>\n",
       "      <th>CTS_Name</th>\n",
       "      <th>CTS_Full_Descriptor</th>\n",
       "      <th>...</th>\n",
       "      <th>F2013</th>\n",
       "      <th>F2014</th>\n",
       "      <th>F2015</th>\n",
       "      <th>F2016</th>\n",
       "      <th>F2017</th>\n",
       "      <th>F2018</th>\n",
       "      <th>F2019</th>\n",
       "      <th>F2020</th>\n",
       "      <th>F2021</th>\n",
       "      <th>F2022</th>\n",
       "    </tr>\n",
       "  </thead>\n",
       "  <tbody>\n",
       "    <tr>\n",
       "      <th>0</th>\n",
       "      <td>0.000000</td>\n",
       "      <td>Afghanistan, Islamic Rep. of</td>\n",
       "      <td>AF</td>\n",
       "      <td>AFG</td>\n",
       "      <td>Temperature change with respect to a baseline ...</td>\n",
       "      <td>Degree Celsius</td>\n",
       "      <td>Food and Agriculture Organization of the Unite...</td>\n",
       "      <td>ECCS</td>\n",
       "      <td>Surface Temperature Change</td>\n",
       "      <td>Environment, Climate Change, Climate Indicator...</td>\n",
       "      <td>...</td>\n",
       "      <td>0.762623</td>\n",
       "      <td>0.195994</td>\n",
       "      <td>0.500493</td>\n",
       "      <td>0.590765</td>\n",
       "      <td>0.615105</td>\n",
       "      <td>0.515391</td>\n",
       "      <td>0.325881</td>\n",
       "      <td>0.077701</td>\n",
       "      <td>0.564979</td>\n",
       "      <td>0.729332</td>\n",
       "    </tr>\n",
       "    <tr>\n",
       "      <th>1</th>\n",
       "      <td>0.004464</td>\n",
       "      <td>Albania</td>\n",
       "      <td>AL</td>\n",
       "      <td>ALB</td>\n",
       "      <td>Temperature change with respect to a baseline ...</td>\n",
       "      <td>Degree Celsius</td>\n",
       "      <td>Food and Agriculture Organization of the Unite...</td>\n",
       "      <td>ECCS</td>\n",
       "      <td>Surface Temperature Change</td>\n",
       "      <td>Environment, Climate Change, Climate Indicator...</td>\n",
       "      <td>...</td>\n",
       "      <td>0.796721</td>\n",
       "      <td>0.461373</td>\n",
       "      <td>0.656918</td>\n",
       "      <td>0.549570</td>\n",
       "      <td>0.445880</td>\n",
       "      <td>0.706393</td>\n",
       "      <td>0.615764</td>\n",
       "      <td>0.366551</td>\n",
       "      <td>0.632377</td>\n",
       "      <td>0.620712</td>\n",
       "    </tr>\n",
       "    <tr>\n",
       "      <th>2</th>\n",
       "      <td>0.008929</td>\n",
       "      <td>Algeria</td>\n",
       "      <td>DZ</td>\n",
       "      <td>DZA</td>\n",
       "      <td>Temperature change with respect to a baseline ...</td>\n",
       "      <td>Degree Celsius</td>\n",
       "      <td>Food and Agriculture Organization of the Unite...</td>\n",
       "      <td>ECCS</td>\n",
       "      <td>Surface Temperature Change</td>\n",
       "      <td>Environment, Climate Change, Climate Indicator...</td>\n",
       "      <td>...</td>\n",
       "      <td>0.704262</td>\n",
       "      <td>0.637339</td>\n",
       "      <td>0.509694</td>\n",
       "      <td>0.682209</td>\n",
       "      <td>0.603796</td>\n",
       "      <td>0.383583</td>\n",
       "      <td>0.403562</td>\n",
       "      <td>0.490179</td>\n",
       "      <td>0.888423</td>\n",
       "      <td>0.658091</td>\n",
       "    </tr>\n",
       "    <tr>\n",
       "      <th>3</th>\n",
       "      <td>0.013393</td>\n",
       "      <td>American Samoa</td>\n",
       "      <td>AS</td>\n",
       "      <td>ASM</td>\n",
       "      <td>Temperature change with respect to a baseline ...</td>\n",
       "      <td>Degree Celsius</td>\n",
       "      <td>Food and Agriculture Organization of the Unite...</td>\n",
       "      <td>ECCS</td>\n",
       "      <td>Surface Temperature Change</td>\n",
       "      <td>Environment, Climate Change, Climate Indicator...</td>\n",
       "      <td>...</td>\n",
       "      <td>0.746885</td>\n",
       "      <td>0.451359</td>\n",
       "      <td>0.472889</td>\n",
       "      <td>0.583522</td>\n",
       "      <td>0.572698</td>\n",
       "      <td>0.375296</td>\n",
       "      <td>0.564229</td>\n",
       "      <td>0.346909</td>\n",
       "      <td>0.545953</td>\n",
       "      <td>0.563105</td>\n",
       "    </tr>\n",
       "    <tr>\n",
       "      <th>4</th>\n",
       "      <td>0.017857</td>\n",
       "      <td>Andorra, Principality of</td>\n",
       "      <td>AD</td>\n",
       "      <td>AND</td>\n",
       "      <td>Temperature change with respect to a baseline ...</td>\n",
       "      <td>Degree Celsius</td>\n",
       "      <td>Food and Agriculture Organization of the Unite...</td>\n",
       "      <td>ECCS</td>\n",
       "      <td>Surface Temperature Change</td>\n",
       "      <td>Environment, Climate Change, Climate Indicator...</td>\n",
       "      <td>...</td>\n",
       "      <td>0.467541</td>\n",
       "      <td>0.728898</td>\n",
       "      <td>0.696681</td>\n",
       "      <td>0.787687</td>\n",
       "      <td>0.770598</td>\n",
       "      <td>0.663378</td>\n",
       "      <td>0.725275</td>\n",
       "      <td>0.673888</td>\n",
       "      <td>0.631409</td>\n",
       "      <td>1.000000</td>\n",
       "    </tr>\n",
       "  </tbody>\n",
       "</table>\n",
       "<p>5 rows × 72 columns</p>\n",
       "</div>"
      ],
      "text/plain": [
       "   ObjectId                       Country ISO2 ISO3  \\\n",
       "0  0.000000  Afghanistan, Islamic Rep. of   AF  AFG   \n",
       "1  0.004464                       Albania   AL  ALB   \n",
       "2  0.008929                       Algeria   DZ  DZA   \n",
       "3  0.013393                American Samoa   AS  ASM   \n",
       "4  0.017857      Andorra, Principality of   AD  AND   \n",
       "\n",
       "                                           Indicator            Unit  \\\n",
       "0  Temperature change with respect to a baseline ...  Degree Celsius   \n",
       "1  Temperature change with respect to a baseline ...  Degree Celsius   \n",
       "2  Temperature change with respect to a baseline ...  Degree Celsius   \n",
       "3  Temperature change with respect to a baseline ...  Degree Celsius   \n",
       "4  Temperature change with respect to a baseline ...  Degree Celsius   \n",
       "\n",
       "                                              Source CTS_Code  \\\n",
       "0  Food and Agriculture Organization of the Unite...     ECCS   \n",
       "1  Food and Agriculture Organization of the Unite...     ECCS   \n",
       "2  Food and Agriculture Organization of the Unite...     ECCS   \n",
       "3  Food and Agriculture Organization of the Unite...     ECCS   \n",
       "4  Food and Agriculture Organization of the Unite...     ECCS   \n",
       "\n",
       "                     CTS_Name  \\\n",
       "0  Surface Temperature Change   \n",
       "1  Surface Temperature Change   \n",
       "2  Surface Temperature Change   \n",
       "3  Surface Temperature Change   \n",
       "4  Surface Temperature Change   \n",
       "\n",
       "                                 CTS_Full_Descriptor  ...     F2013     F2014  \\\n",
       "0  Environment, Climate Change, Climate Indicator...  ...  0.762623  0.195994   \n",
       "1  Environment, Climate Change, Climate Indicator...  ...  0.796721  0.461373   \n",
       "2  Environment, Climate Change, Climate Indicator...  ...  0.704262  0.637339   \n",
       "3  Environment, Climate Change, Climate Indicator...  ...  0.746885  0.451359   \n",
       "4  Environment, Climate Change, Climate Indicator...  ...  0.467541  0.728898   \n",
       "\n",
       "      F2015     F2016     F2017     F2018     F2019     F2020     F2021  \\\n",
       "0  0.500493  0.590765  0.615105  0.515391  0.325881  0.077701  0.564979   \n",
       "1  0.656918  0.549570  0.445880  0.706393  0.615764  0.366551  0.632377   \n",
       "2  0.509694  0.682209  0.603796  0.383583  0.403562  0.490179  0.888423   \n",
       "3  0.472889  0.583522  0.572698  0.375296  0.564229  0.346909  0.545953   \n",
       "4  0.696681  0.787687  0.770598  0.663378  0.725275  0.673888  0.631409   \n",
       "\n",
       "      F2022  \n",
       "0  0.729332  \n",
       "1  0.620712  \n",
       "2  0.658091  \n",
       "3  0.563105  \n",
       "4  1.000000  \n",
       "\n",
       "[5 rows x 72 columns]"
      ]
     },
     "execution_count": 15,
     "metadata": {},
     "output_type": "execute_result"
    }
   ],
   "source": [
    "df_03: pd.DataFrame = pd.read_csv(\"datasets\\climate_change_indicators.csv\")\n",
    "aux_dataframe = normalize_data_from(df_03)\n",
    "aux_dataframe.head()"
   ]
  }
 ],
 "metadata": {
  "kernelspec": {
   "display_name": "Python 3",
   "language": "python",
   "name": "python3"
  },
  "language_info": {
   "codemirror_mode": {
    "name": "ipython",
    "version": 3
   },
   "file_extension": ".py",
   "mimetype": "text/x-python",
   "name": "python",
   "nbconvert_exporter": "python",
   "pygments_lexer": "ipython3",
   "version": "3.11.9"
  }
 },
 "nbformat": 4,
 "nbformat_minor": 2
}
