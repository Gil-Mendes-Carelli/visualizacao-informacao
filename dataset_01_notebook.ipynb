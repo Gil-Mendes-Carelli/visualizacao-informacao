{
 "cells": [
  {
   "cell_type": "markdown",
   "metadata": {},
   "source": [
    "# Starting notebook for data exploration and visualization techniques."
   ]
  },
  {
   "cell_type": "code",
   "execution_count": 44,
   "metadata": {},
   "outputs": [],
   "source": [
    "import pandas as pd"
   ]
  },
  {
   "cell_type": "markdown",
   "metadata": {},
   "source": [
    "Loading the first dataset"
   ]
  },
  {
   "cell_type": "code",
   "execution_count": 45,
   "metadata": {},
   "outputs": [],
   "source": [
    "df_dataset_01 : pd.DataFrame = pd.read_csv('datasets\\climate_change_indicators.csv')"
   ]
  },
  {
   "cell_type": "markdown",
   "metadata": {},
   "source": [
    "Exploring the data"
   ]
  },
  {
   "cell_type": "code",
   "execution_count": null,
   "metadata": {},
   "outputs": [],
   "source": [
    "df_dataset_01.head()"
   ]
  },
  {
   "cell_type": "code",
   "execution_count": null,
   "metadata": {},
   "outputs": [],
   "source": [
    "print(df_dataset_01.columns)\n",
    "print(df_dataset_01.dtypes)\n",
    "print(f\"número de instâncias do dataframe = {df_dataset_01.shape[0]}\")\n",
    "df_dataset_01.shape"
   ]
  },
  {
   "cell_type": "markdown",
   "metadata": {},
   "source": [
    "searching for Brazil's data "
   ]
  },
  {
   "cell_type": "code",
   "execution_count": null,
   "metadata": {},
   "outputs": [],
   "source": [
    "df_result : pd.DataFrame = df_dataset_01.loc[df_dataset_01['Country'] == 'Brazil', 'ObjectId']\n",
    "# recovering the ID of Brazil's data\n",
    "print(df_result.iloc[0])"
   ]
  },
  {
   "cell_type": "code",
   "execution_count": null,
   "metadata": {},
   "outputs": [],
   "source": [
    "# showing the entire result for Brazil's data\n",
    "row : pd.Series = df_dataset_01.loc[df_dataset_01['Country'] == 'Brazil']\n",
    "if not row.empty:\n",
    "    print(row)"
   ]
  },
  {
   "cell_type": "markdown",
   "metadata": {},
   "source": [
    "Trying to pre process the data"
   ]
  },
  {
   "cell_type": "code",
   "execution_count": 56,
   "metadata": {},
   "outputs": [],
   "source": [
    "# pip install missingno"
   ]
  },
  {
   "cell_type": "code",
   "execution_count": null,
   "metadata": {},
   "outputs": [],
   "source": [
    "import missingno as msno\n",
    "\n",
    "msno.matrix(df_dataset_01) #shows in a graphic the missing data (nan values)"
   ]
  },
  {
   "cell_type": "code",
   "execution_count": null,
   "metadata": {},
   "outputs": [],
   "source": [
    "msno.matrix(df_dataset_02)"
   ]
  },
  {
   "cell_type": "code",
   "execution_count": null,
   "metadata": {},
   "outputs": [],
   "source": [
    "msno.matrix(df_dataset_03)"
   ]
  },
  {
   "cell_type": "markdown",
   "metadata": {},
   "source": [
    "First we'll remove the instances with missing data"
   ]
  },
  {
   "cell_type": "code",
   "execution_count": 60,
   "metadata": {},
   "outputs": [],
   "source": [
    "# just a copy to not loose the original df\n",
    "df_test_01 : pd.DataFrame = df_dataset_01.copy()\n",
    "# removing the instances with NaN\n",
    "df_test_01 = df_test_01.dropna() "
   ]
  },
  {
   "cell_type": "code",
   "execution_count": null,
   "metadata": {},
   "outputs": [],
   "source": [
    "# checking it\n",
    "msno.matrix(df_test_01)"
   ]
  },
  {
   "cell_type": "markdown",
   "metadata": {},
   "source": [
    "Trying to plot a parallel coordinates graphic from the first dataframe after removing NaN values"
   ]
  },
  {
   "cell_type": "code",
   "execution_count": null,
   "metadata": {},
   "outputs": [],
   "source": [
    "import matplotlib.pyplot as plt\n",
    "\n",
    "# selecting numeric values only from the dataframe\n",
    "df_aux_01 : pd.DataFrame = df_test_01.select_dtypes(include=['number']) \n",
    "\n",
    "# normalizing the data\n",
    "df_normalized : pd.DataFrame = (df_aux_01 - df_aux_01.min()) / (df_aux_01.max() - df_aux_01.min())\n",
    "\n",
    "# creating a X axis \n",
    "x = range(df_normalized.shape[1])\n",
    "# x = range(df_aux_01.shape[1])\n",
    "\n",
    "# setting up\n",
    "plt.figure(figsize=(10, 6))\n",
    "for i in range(len(df_normalized)):\n",
    "    plt.plot(x, df_normalized.iloc[i, :], marker='o')\n",
    "\n",
    "# graphic settings\n",
    "plt.title('Gráfico de Coordenadas Paralelas')\n",
    "plt.xlabel('Variáveis')\n",
    "plt.ylabel('Valores')\n",
    "plt.grid(True)\n",
    "plt.show()"
   ]
  },
  {
   "cell_type": "code",
   "execution_count": null,
   "metadata": {},
   "outputs": [],
   "source": [
    "from pandas.plotting import parallel_coordinates\n",
    "\n",
    "# selecting numeric values only from the dataframe\n",
    "df_aux_01 : pd.DataFrame = df_test_01.select_dtypes(include=['number']) \n",
    "df_aux_01['Country'] = df_dataset_01['Country']\n",
    "\n",
    "\n",
    "# setting up\n",
    "plt.figure(figsize=(10, 6))\n",
    "parallel_coordinates(df_aux_01, 'Country', colormap=plt.get_cmap(\"Set1\"))\n",
    "\n",
    "# graphic settings\n",
    "plt.title('Gráfico de Coordenadas Paralelas')\n",
    "plt.xlabel('Variáveis')\n",
    "plt.ylabel('Valores')\n",
    "plt.grid(True)\n",
    "plt.show()\n",
    "\n"
   ]
  }
 ],
 "metadata": {
  "kernelspec": {
   "display_name": "Python 3",
   "language": "python",
   "name": "python3"
  },
  "language_info": {
   "codemirror_mode": {
    "name": "ipython",
    "version": 3
   },
   "file_extension": ".py",
   "mimetype": "text/x-python",
   "name": "python",
   "nbconvert_exporter": "python",
   "pygments_lexer": "ipython3",
   "version": "3.11.9"
  }
 },
 "nbformat": 4,
 "nbformat_minor": 2
}
