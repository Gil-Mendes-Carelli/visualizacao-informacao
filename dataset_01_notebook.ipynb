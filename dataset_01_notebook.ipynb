{
 "cells": [
  {
   "cell_type": "markdown",
   "metadata": {},
   "source": [
    "# Starting notebook for data exploration and visualization techniques."
   ]
  },
  {
   "cell_type": "code",
   "execution_count": 30,
   "metadata": {},
   "outputs": [],
   "source": [
    "import pandas as pd\n",
    "import matplotlib.pyplot as plt"
   ]
  },
  {
   "cell_type": "markdown",
   "metadata": {},
   "source": [
    "Loading the first dataset"
   ]
  },
  {
   "cell_type": "code",
   "execution_count": 31,
   "metadata": {},
   "outputs": [],
   "source": [
    "df_dataset_01 : pd.DataFrame = pd.read_csv('datasets\\climate_change_indicators.csv')"
   ]
  },
  {
   "cell_type": "markdown",
   "metadata": {},
   "source": [
    "Exploring the data"
   ]
  },
  {
   "cell_type": "code",
   "execution_count": 32,
   "metadata": {},
   "outputs": [
    {
     "data": {
      "text/html": [
       "<div>\n",
       "<style scoped>\n",
       "    .dataframe tbody tr th:only-of-type {\n",
       "        vertical-align: middle;\n",
       "    }\n",
       "\n",
       "    .dataframe tbody tr th {\n",
       "        vertical-align: top;\n",
       "    }\n",
       "\n",
       "    .dataframe thead th {\n",
       "        text-align: right;\n",
       "    }\n",
       "</style>\n",
       "<table border=\"1\" class=\"dataframe\">\n",
       "  <thead>\n",
       "    <tr style=\"text-align: right;\">\n",
       "      <th></th>\n",
       "      <th>ObjectId</th>\n",
       "      <th>Country</th>\n",
       "      <th>ISO2</th>\n",
       "      <th>ISO3</th>\n",
       "      <th>Indicator</th>\n",
       "      <th>Unit</th>\n",
       "      <th>Source</th>\n",
       "      <th>CTS_Code</th>\n",
       "      <th>CTS_Name</th>\n",
       "      <th>CTS_Full_Descriptor</th>\n",
       "      <th>...</th>\n",
       "      <th>F2013</th>\n",
       "      <th>F2014</th>\n",
       "      <th>F2015</th>\n",
       "      <th>F2016</th>\n",
       "      <th>F2017</th>\n",
       "      <th>F2018</th>\n",
       "      <th>F2019</th>\n",
       "      <th>F2020</th>\n",
       "      <th>F2021</th>\n",
       "      <th>F2022</th>\n",
       "    </tr>\n",
       "  </thead>\n",
       "  <tbody>\n",
       "    <tr>\n",
       "      <th>0</th>\n",
       "      <td>1</td>\n",
       "      <td>Afghanistan, Islamic Rep. of</td>\n",
       "      <td>AF</td>\n",
       "      <td>AFG</td>\n",
       "      <td>Temperature change with respect to a baseline ...</td>\n",
       "      <td>Degree Celsius</td>\n",
       "      <td>Food and Agriculture Organization of the Unite...</td>\n",
       "      <td>ECCS</td>\n",
       "      <td>Surface Temperature Change</td>\n",
       "      <td>Environment, Climate Change, Climate Indicator...</td>\n",
       "      <td>...</td>\n",
       "      <td>1.281</td>\n",
       "      <td>0.456</td>\n",
       "      <td>1.093</td>\n",
       "      <td>1.555</td>\n",
       "      <td>1.540</td>\n",
       "      <td>1.544</td>\n",
       "      <td>0.910</td>\n",
       "      <td>0.498</td>\n",
       "      <td>1.327</td>\n",
       "      <td>2.012</td>\n",
       "    </tr>\n",
       "    <tr>\n",
       "      <th>1</th>\n",
       "      <td>2</td>\n",
       "      <td>Albania</td>\n",
       "      <td>AL</td>\n",
       "      <td>ALB</td>\n",
       "      <td>Temperature change with respect to a baseline ...</td>\n",
       "      <td>Degree Celsius</td>\n",
       "      <td>Food and Agriculture Organization of the Unite...</td>\n",
       "      <td>ECCS</td>\n",
       "      <td>Surface Temperature Change</td>\n",
       "      <td>Environment, Climate Change, Climate Indicator...</td>\n",
       "      <td>...</td>\n",
       "      <td>1.333</td>\n",
       "      <td>1.198</td>\n",
       "      <td>1.569</td>\n",
       "      <td>1.464</td>\n",
       "      <td>1.121</td>\n",
       "      <td>2.028</td>\n",
       "      <td>1.675</td>\n",
       "      <td>1.498</td>\n",
       "      <td>1.536</td>\n",
       "      <td>1.518</td>\n",
       "    </tr>\n",
       "    <tr>\n",
       "      <th>2</th>\n",
       "      <td>3</td>\n",
       "      <td>Algeria</td>\n",
       "      <td>DZ</td>\n",
       "      <td>DZA</td>\n",
       "      <td>Temperature change with respect to a baseline ...</td>\n",
       "      <td>Degree Celsius</td>\n",
       "      <td>Food and Agriculture Organization of the Unite...</td>\n",
       "      <td>ECCS</td>\n",
       "      <td>Surface Temperature Change</td>\n",
       "      <td>Environment, Climate Change, Climate Indicator...</td>\n",
       "      <td>...</td>\n",
       "      <td>1.192</td>\n",
       "      <td>1.690</td>\n",
       "      <td>1.121</td>\n",
       "      <td>1.757</td>\n",
       "      <td>1.512</td>\n",
       "      <td>1.210</td>\n",
       "      <td>1.115</td>\n",
       "      <td>1.926</td>\n",
       "      <td>2.330</td>\n",
       "      <td>1.688</td>\n",
       "    </tr>\n",
       "    <tr>\n",
       "      <th>3</th>\n",
       "      <td>4</td>\n",
       "      <td>American Samoa</td>\n",
       "      <td>AS</td>\n",
       "      <td>ASM</td>\n",
       "      <td>Temperature change with respect to a baseline ...</td>\n",
       "      <td>Degree Celsius</td>\n",
       "      <td>Food and Agriculture Organization of the Unite...</td>\n",
       "      <td>ECCS</td>\n",
       "      <td>Surface Temperature Change</td>\n",
       "      <td>Environment, Climate Change, Climate Indicator...</td>\n",
       "      <td>...</td>\n",
       "      <td>1.257</td>\n",
       "      <td>1.170</td>\n",
       "      <td>1.009</td>\n",
       "      <td>1.539</td>\n",
       "      <td>1.435</td>\n",
       "      <td>1.189</td>\n",
       "      <td>1.539</td>\n",
       "      <td>1.430</td>\n",
       "      <td>1.268</td>\n",
       "      <td>1.256</td>\n",
       "    </tr>\n",
       "    <tr>\n",
       "      <th>4</th>\n",
       "      <td>5</td>\n",
       "      <td>Andorra, Principality of</td>\n",
       "      <td>AD</td>\n",
       "      <td>AND</td>\n",
       "      <td>Temperature change with respect to a baseline ...</td>\n",
       "      <td>Degree Celsius</td>\n",
       "      <td>Food and Agriculture Organization of the Unite...</td>\n",
       "      <td>ECCS</td>\n",
       "      <td>Surface Temperature Change</td>\n",
       "      <td>Environment, Climate Change, Climate Indicator...</td>\n",
       "      <td>...</td>\n",
       "      <td>0.831</td>\n",
       "      <td>1.946</td>\n",
       "      <td>1.690</td>\n",
       "      <td>1.990</td>\n",
       "      <td>1.925</td>\n",
       "      <td>1.919</td>\n",
       "      <td>1.964</td>\n",
       "      <td>2.562</td>\n",
       "      <td>1.533</td>\n",
       "      <td>3.243</td>\n",
       "    </tr>\n",
       "  </tbody>\n",
       "</table>\n",
       "<p>5 rows × 72 columns</p>\n",
       "</div>"
      ],
      "text/plain": [
       "   ObjectId                       Country ISO2 ISO3  \\\n",
       "0         1  Afghanistan, Islamic Rep. of   AF  AFG   \n",
       "1         2                       Albania   AL  ALB   \n",
       "2         3                       Algeria   DZ  DZA   \n",
       "3         4                American Samoa   AS  ASM   \n",
       "4         5      Andorra, Principality of   AD  AND   \n",
       "\n",
       "                                           Indicator            Unit  \\\n",
       "0  Temperature change with respect to a baseline ...  Degree Celsius   \n",
       "1  Temperature change with respect to a baseline ...  Degree Celsius   \n",
       "2  Temperature change with respect to a baseline ...  Degree Celsius   \n",
       "3  Temperature change with respect to a baseline ...  Degree Celsius   \n",
       "4  Temperature change with respect to a baseline ...  Degree Celsius   \n",
       "\n",
       "                                              Source CTS_Code  \\\n",
       "0  Food and Agriculture Organization of the Unite...     ECCS   \n",
       "1  Food and Agriculture Organization of the Unite...     ECCS   \n",
       "2  Food and Agriculture Organization of the Unite...     ECCS   \n",
       "3  Food and Agriculture Organization of the Unite...     ECCS   \n",
       "4  Food and Agriculture Organization of the Unite...     ECCS   \n",
       "\n",
       "                     CTS_Name  \\\n",
       "0  Surface Temperature Change   \n",
       "1  Surface Temperature Change   \n",
       "2  Surface Temperature Change   \n",
       "3  Surface Temperature Change   \n",
       "4  Surface Temperature Change   \n",
       "\n",
       "                                 CTS_Full_Descriptor  ...  F2013  F2014  \\\n",
       "0  Environment, Climate Change, Climate Indicator...  ...  1.281  0.456   \n",
       "1  Environment, Climate Change, Climate Indicator...  ...  1.333  1.198   \n",
       "2  Environment, Climate Change, Climate Indicator...  ...  1.192  1.690   \n",
       "3  Environment, Climate Change, Climate Indicator...  ...  1.257  1.170   \n",
       "4  Environment, Climate Change, Climate Indicator...  ...  0.831  1.946   \n",
       "\n",
       "   F2015  F2016  F2017  F2018  F2019  F2020  F2021  F2022  \n",
       "0  1.093  1.555  1.540  1.544  0.910  0.498  1.327  2.012  \n",
       "1  1.569  1.464  1.121  2.028  1.675  1.498  1.536  1.518  \n",
       "2  1.121  1.757  1.512  1.210  1.115  1.926  2.330  1.688  \n",
       "3  1.009  1.539  1.435  1.189  1.539  1.430  1.268  1.256  \n",
       "4  1.690  1.990  1.925  1.919  1.964  2.562  1.533  3.243  \n",
       "\n",
       "[5 rows x 72 columns]"
      ]
     },
     "execution_count": 32,
     "metadata": {},
     "output_type": "execute_result"
    }
   ],
   "source": [
    "df_dataset_01.head()"
   ]
  },
  {
   "cell_type": "code",
   "execution_count": 33,
   "metadata": {},
   "outputs": [
    {
     "name": "stdout",
     "output_type": "stream",
     "text": [
      "Index(['ObjectId', 'Country', 'ISO2', 'ISO3', 'Indicator', 'Unit', 'Source',\n",
      "       'CTS_Code', 'CTS_Name', 'CTS_Full_Descriptor', 'F1961', 'F1962',\n",
      "       'F1963', 'F1964', 'F1965', 'F1966', 'F1967', 'F1968', 'F1969', 'F1970',\n",
      "       'F1971', 'F1972', 'F1973', 'F1974', 'F1975', 'F1976', 'F1977', 'F1978',\n",
      "       'F1979', 'F1980', 'F1981', 'F1982', 'F1983', 'F1984', 'F1985', 'F1986',\n",
      "       'F1987', 'F1988', 'F1989', 'F1990', 'F1991', 'F1992', 'F1993', 'F1994',\n",
      "       'F1995', 'F1996', 'F1997', 'F1998', 'F1999', 'F2000', 'F2001', 'F2002',\n",
      "       'F2003', 'F2004', 'F2005', 'F2006', 'F2007', 'F2008', 'F2009', 'F2010',\n",
      "       'F2011', 'F2012', 'F2013', 'F2014', 'F2015', 'F2016', 'F2017', 'F2018',\n",
      "       'F2019', 'F2020', 'F2021', 'F2022'],\n",
      "      dtype='object')\n",
      "ObjectId       int64\n",
      "Country       object\n",
      "ISO2          object\n",
      "ISO3          object\n",
      "Indicator     object\n",
      "              ...   \n",
      "F2018        float64\n",
      "F2019        float64\n",
      "F2020        float64\n",
      "F2021        float64\n",
      "F2022        float64\n",
      "Length: 72, dtype: object\n",
      "número de instâncias do dataframe = 225\n"
     ]
    },
    {
     "data": {
      "text/plain": [
       "(225, 72)"
      ]
     },
     "execution_count": 33,
     "metadata": {},
     "output_type": "execute_result"
    }
   ],
   "source": [
    "print(df_dataset_01.columns)\n",
    "print(df_dataset_01.dtypes)\n",
    "print(f\"número de instâncias do dataframe = {df_dataset_01.shape[0]}\")\n",
    "df_dataset_01.shape"
   ]
  },
  {
   "cell_type": "markdown",
   "metadata": {},
   "source": [
    "Trying to pre process the data"
   ]
  },
  {
   "cell_type": "code",
   "execution_count": 34,
   "metadata": {},
   "outputs": [],
   "source": [
    "# pip install missingno"
   ]
  },
  {
   "cell_type": "code",
   "execution_count": 36,
   "metadata": {},
   "outputs": [
    {
     "data": {
      "text/plain": [
       "<Axes: >"
      ]
     },
     "execution_count": 36,
     "metadata": {},
     "output_type": "execute_result"
    },
    {
     "data": {
      "image/png": "[encoded data removed]",
      "text/plain": [
       "<Figure size 2500x1000 with 2 Axes>"
      ]
     },
     "metadata": {},
     "output_type": "display_data"
    }
   ],
   "source": [
    "import missingno as msno\n",
    "\n",
    "msno.matrix(df_dataset_01) #shows in a graphic the missing data (nan values)\n"
   ]
  },
  {
   "cell_type": "markdown",
   "metadata": {},
   "source": [
    "First we'll remove the instances with missing data"
   ]
  },
  {
   "cell_type": "code",
   "execution_count": 8,
   "metadata": {},
   "outputs": [],
   "source": [
    "# just a copy to not loose the original df\n",
    "df_test_01 : pd.DataFrame = df_dataset_01.copy()\n",
    "# removing the instances with NaN\n",
    "df_test_01 = df_test_01.dropna() "
   ]
  },
  {
   "cell_type": "code",
   "execution_count": null,
   "metadata": {},
   "outputs": [],
   "source": [
    "# checking it\n",
    "msno.matrix(df_test_01)"
   ]
  },
  {
   "cell_type": "markdown",
   "metadata": {},
   "source": [
    "Trying to plot a parallel coordinates graphic from the first dataframe after removing NaN values"
   ]
  },
  {
   "cell_type": "code",
   "execution_count": null,
   "metadata": {},
   "outputs": [],
   "source": [
    "# selecting numeric values only from the dataframe\n",
    "df_aux_01 : pd.DataFrame = df_test_01.select_dtypes(include=['number']) \n",
    "\n",
    "# normalizing the data\n",
    "normalized_row : pd.DataFrame = (df_aux_01 - df_aux_01.min()) / (df_aux_01.max() - df_aux_01.min())\n",
    "\n",
    "# creating a X axis \n",
    "x = range(normalized_row.shape[1])\n",
    "# x = range(df_aux_01.shape[1])\n",
    "\n",
    "# setting up\n",
    "plt.figure(figsize=(10, 6))\n",
    "for i in range(len(normalized_row)):\n",
    "    plt.plot(x, normalized_row.iloc[i, :], marker='o')\n",
    "\n",
    "# graphic settings\n",
    "plt.title('Gráfico de Coordenadas Paralelas')\n",
    "plt.xlabel('Variáveis')\n",
    "plt.ylabel('Valores')\n",
    "plt.grid(True)\n",
    "plt.show()"
   ]
  },
  {
   "cell_type": "code",
   "execution_count": null,
   "metadata": {},
   "outputs": [],
   "source": [
    "from pandas.plotting import parallel_coordinates\n",
    "\n",
    "# selecting numeric values only from the dataframe\n",
    "df_aux_01 : pd.DataFrame = df_test_01.select_dtypes(include=['number']) \n",
    "df_aux_01['Country'] = df_dataset_01['Country']\n",
    "\n",
    "\n",
    "# setting up\n",
    "plt.figure(figsize=(10, 6))\n",
    "parallel_coordinates(df_aux_01, 'Country', colormap=plt.get_cmap(\"Set1\"))\n",
    "\n",
    "# graphic settings\n",
    "plt.title('Gráfico de Coordenadas Paralelas')\n",
    "plt.xlabel('Variáveis')\n",
    "plt.ylabel('Valores')\n",
    "plt.grid(True)\n",
    "plt.show()\n",
    "\n"
   ]
  },
  {
   "cell_type": "markdown",
   "metadata": {},
   "source": [
    "searching for Brazil's data "
   ]
  },
  {
   "cell_type": "code",
   "execution_count": null,
   "metadata": {},
   "outputs": [],
   "source": [
    "# showing the entire result for Brazil's data\n",
    "row : pd.Series = df_dataset_01.loc[df_dataset_01['Country'] == 'Brazil']\n",
    "if not row.empty:\n",
    "    print(row)"
   ]
  },
  {
   "cell_type": "markdown",
   "metadata": {},
   "source": [
    "Trying to plot Brazil's data\n"
   ]
  },
  {
   "cell_type": "code",
   "execution_count": null,
   "metadata": {},
   "outputs": [],
   "source": [
    "from pandas.plotting import parallel_coordinates\n",
    "\n",
    "# # selecting numeric values only from the dataframe\n",
    "# df_aux_01 : pd.DataFrame = df_test_01.select_dtypes(include=['number']) \n",
    "# df_aux_01['Country'] = df_dataset_01['Country']\n",
    "aux : pd.Series = row.select_dtypes(include=['number'])\n",
    "aux['Country'] = row['Country']\n",
    "\n",
    "# setting up\n",
    "plt.figure(figsize=(10, 6))\n",
    "parallel_coordinates(aux, 'Country', colormap=plt.get_cmap(\"Set1\"))\n",
    "\n",
    "# graphic settings\n",
    "plt.title('Gráfico de Coordenadas Paralelas')\n",
    "plt.xlabel('Variáveis')\n",
    "plt.ylabel('Valores')\n",
    "plt.grid(True)\n",
    "plt.show()"
   ]
  },
  {
   "cell_type": "markdown",
   "metadata": {},
   "source": [
    "trying again"
   ]
  },
  {
   "cell_type": "code",
   "execution_count": 14,
   "metadata": {},
   "outputs": [],
   "source": [
    "# # selecting numeric values only from the Brazil's data row\n",
    "# aux : pd.Series = row.select_dtypes(include=['number'])\n",
    "\n",
    "# # normalizing the data\n",
    "# # normalized_row : pd.DataFrame = (aux - aux.min()) / (aux.max() - aux.min())\n",
    "\n",
    "# # # creating a X axis \n",
    "# # x = range(normalized_row.shape[1])\n",
    "\n",
    "# # setting up\n",
    "# plt.figure(figsize=(10, 6))\n",
    "# plt.plot(aux, aux, marker='o')\n",
    "\n",
    "# # graphic settings\n",
    "# plt.title('Gráfico de Coordenadas Paralelas')\n",
    "# plt.xlabel('Variáveis')\n",
    "# plt.ylabel('Valores')\n",
    "# plt.grid(True)\n",
    "# plt.show()"
   ]
  },
  {
   "cell_type": "markdown",
   "metadata": {},
   "source": [
    "Starting over, trying other stuff: dimension's number reduction, dropping columns, removing NaNs, using chunks of the instances and more."
   ]
  },
  {
   "cell_type": "code",
   "execution_count": 15,
   "metadata": {},
   "outputs": [],
   "source": [
    "df_dataset_01 : pd.DataFrame = pd.read_csv('datasets\\climate_change_indicators.csv')"
   ]
  },
  {
   "cell_type": "code",
   "execution_count": null,
   "metadata": {},
   "outputs": [],
   "source": [
    "df_dataset_01.head()"
   ]
  },
  {
   "cell_type": "code",
   "execution_count": null,
   "metadata": {},
   "outputs": [],
   "source": [
    "row_values : pd.Series = df_dataset_01.iloc[1]\n",
    "print(type(row_values))\n",
    "print(row_values)"
   ]
  },
  {
   "cell_type": "code",
   "execution_count": null,
   "metadata": {},
   "outputs": [],
   "source": [
    "column_value : str = df_dataset_01.iloc[1]['Indicator']\n",
    "print(type(column_value))\n",
    "print(column_value)"
   ]
  },
  {
   "cell_type": "code",
   "execution_count": null,
   "metadata": {},
   "outputs": [],
   "source": [
    "column_values : pd.Series = df_dataset_01.iloc[:, 1]\n",
    "print(type(df_dataset_01.iloc[:, 1]))\n",
    "print(df_dataset_01.iloc[:, 1])"
   ]
  },
  {
   "cell_type": "code",
   "execution_count": null,
   "metadata": {},
   "outputs": [],
   "source": [
    "column_name : str = df_dataset_01.columns[1]\n",
    "print(type(column_name))\n",
    "print(column_name)"
   ]
  },
  {
   "cell_type": "code",
   "execution_count": null,
   "metadata": {},
   "outputs": [],
   "source": [
    "column_names : pd.Index = df_dataset_01.columns\n",
    "print(type(column_names))\n",
    "print(column_names)"
   ]
  },
  {
   "cell_type": "code",
   "execution_count": null,
   "metadata": {},
   "outputs": [],
   "source": [
    "from typing import List\n",
    "# finding object columns\n",
    "object_columns : List = df_dataset_01.select_dtypes(include='object').columns.to_list()\n",
    "print(object_columns)"
   ]
  },
  {
   "cell_type": "code",
   "execution_count": null,
   "metadata": {},
   "outputs": [],
   "source": [
    "# keeping the 'Country's column and dropping all other object columns\n",
    "column_values : pd.Series = df_dataset_01.iloc[:, 1]\n",
    "# print(column_values)\n",
    "column_name_to_save : str = df_dataset_01.columns[1]\n",
    "# print(column_name_to_save)\n",
    "column_values_to_save : pd.Series = df_dataset_01.iloc[:, 1]\n",
    "# print(column_values_to_save)\n",
    "# dropping all objects columns\n",
    "df_dataset_01_numeric : pd.DataFrame = df_dataset_01.drop(columns=object_columns)\n",
    "df_dataset_01_numeric.drop(columns='ObjectId', inplace=True)\n",
    "df_dataset_01_numeric.head() # do we have a dataset with country's names and all the numeric values? And about the NaN?"
   ]
  },
  {
   "cell_type": "code",
   "execution_count": 24,
   "metadata": {},
   "outputs": [],
   "source": [
    "# msno.matrix\t(df_dataset_01_numeric)"
   ]
  },
  {
   "cell_type": "code",
   "execution_count": null,
   "metadata": {},
   "outputs": [],
   "source": [
    "print(f\"número de instâncias do dataframe = {df_dataset_01_numeric.shape[0]}\") # Nan still on"
   ]
  },
  {
   "cell_type": "code",
   "execution_count": 26,
   "metadata": {},
   "outputs": [],
   "source": [
    "# dropping Nan values\n",
    "df_dataset_01_numeric_no_nan : pd.DataFrame = df_dataset_01_numeric.dropna()\n",
    "# print(f\"número de instâncias do dataframe = {df_dataset_01_numeric_no_nan.shape[0]}\") \n",
    "# msno.matrix(df_dataset_01_numeric_no_nan) # alright, no NaNs"
   ]
  },
  {
   "cell_type": "markdown",
   "metadata": {},
   "source": [
    "removing some dimensions"
   ]
  },
  {
   "cell_type": "code",
   "execution_count": null,
   "metadata": {},
   "outputs": [],
   "source": [
    "n_columns : int = len(df_dataset_01_numeric_no_nan.columns)\n",
    "# print(n_columns)\n",
    "\n",
    "# selecting the remaining columns\n",
    "first_dimension_sample : pd.DataFrame = df_dataset_01_numeric_no_nan.iloc[:, :3]\n",
    "second_dimension_sample : pd.DataFrame = df_dataset_01_numeric_no_nan.iloc[:, n_columns // 2 : (n_columns // 2) +3]\n",
    "third_dimension_sample : pd.DataFrame = df_dataset_01_numeric_no_nan.iloc[:, -3:]\n",
    "\n",
    "reduced_dimension_df : pd.DataFrame = pd.concat([first_dimension_sample, second_dimension_sample, third_dimension_sample], axis=1)\n",
    "# adding back the Country column\n",
    "reduced_dimension_df.insert(0, column_name_to_save, column_values_to_save)\n",
    "reduced_dimension_df.head()"
   ]
  },
  {
   "cell_type": "markdown",
   "metadata": {},
   "source": [
    "Trying to plot Brazil's data"
   ]
  },
  {
   "cell_type": "code",
   "execution_count": null,
   "metadata": {},
   "outputs": [],
   "source": [
    "# getting some of Brazil's data\n",
    "row : pd.Series = reduced_dimension_df.loc[df_dataset_01['Country'] == 'Brazil']\n",
    "if not row.empty:\n",
    "    print(row)\n",
    "\n",
    "# setting up\n",
    "plt.figure(figsize=(10, 6))\n",
    "parallel_coordinates(row, 'Country', colormap=plt.get_cmap(\"Set1\"))\n",
    "\n",
    "# graphic settings\n",
    "plt.title('Gráfico de Coordenadas Paralelas')\n",
    "plt.xlabel('Variáveis')\n",
    "plt.ylabel('Valores')\n",
    "plt.grid(False)\n",
    "plt.show()"
   ]
  },
  {
   "cell_type": "markdown",
   "metadata": {},
   "source": [
    "Plotting 10 random countries"
   ]
  },
  {
   "cell_type": "code",
   "execution_count": null,
   "metadata": {},
   "outputs": [],
   "source": [
    "df_final_sample : pd.DataFrame = reduced_dimension_df.sample(n=10)\n",
    "\n",
    "# setting up\n",
    "plt.figure(figsize=(10, 6))\n",
    "parallel_coordinates(df_final_sample, 'Country', colormap=plt.get_cmap(\"Set1\"))\n",
    "\n",
    "# graphic settings\n",
    "plt.title('Gráfico de Coordenadas Paralelas')\n",
    "plt.xlabel('Variáveis')\n",
    "plt.ylabel('Valores')\n",
    "plt.grid(False)\n",
    "plt.show()"
   ]
  }
 ],
 "metadata": {
  "kernelspec": {
   "display_name": "Python 3",
   "language": "python",
   "name": "python3"
  },
  "language_info": {
   "codemirror_mode": {
    "name": "ipython",
    "version": 3
   },
   "file_extension": ".py",
   "mimetype": "text/x-python",
   "name": "python",
   "nbconvert_exporter": "python",
   "pygments_lexer": "ipython3",
   "version": "3.11.9"
  }
 },
 "nbformat": 4,
 "nbformat_minor": 2
}
