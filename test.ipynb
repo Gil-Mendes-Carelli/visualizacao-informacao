{
 "cells": [
  {
   "cell_type": "code",
   "execution_count": 1,
   "metadata": {},
   "outputs": [],
   "source": [
    "import pandas as pd\n"
   ]
  },
  {
   "cell_type": "code",
   "execution_count": 2,
   "metadata": {},
   "outputs": [
    {
     "name": "stdout",
     "output_type": "stream",
     "text": [
      "A primeira coluna 'ObjectId' foi removida porque era numérica.\n",
      "                        Country ISO2 ISO3  \\\n",
      "0  Afghanistan, Islamic Rep. of   AF  AFG   \n",
      "1                       Albania   AL  ALB   \n",
      "2                       Algeria   DZ  DZA   \n",
      "3                American Samoa   AS  ASM   \n",
      "4      Andorra, Principality of   AD  AND   \n",
      "\n",
      "                                           Indicator            Unit  \\\n",
      "0  Temperature change with respect to a baseline ...  Degree Celsius   \n",
      "1  Temperature change with respect to a baseline ...  Degree Celsius   \n",
      "2  Temperature change with respect to a baseline ...  Degree Celsius   \n",
      "3  Temperature change with respect to a baseline ...  Degree Celsius   \n",
      "4  Temperature change with respect to a baseline ...  Degree Celsius   \n",
      "\n",
      "                                              Source CTS_Code  \\\n",
      "0  Food and Agriculture Organization of the Unite...     ECCS   \n",
      "1  Food and Agriculture Organization of the Unite...     ECCS   \n",
      "2  Food and Agriculture Organization of the Unite...     ECCS   \n",
      "3  Food and Agriculture Organization of the Unite...     ECCS   \n",
      "4  Food and Agriculture Organization of the Unite...     ECCS   \n",
      "\n",
      "                     CTS_Name  \\\n",
      "0  Surface Temperature Change   \n",
      "1  Surface Temperature Change   \n",
      "2  Surface Temperature Change   \n",
      "3  Surface Temperature Change   \n",
      "4  Surface Temperature Change   \n",
      "\n",
      "                                 CTS_Full_Descriptor  F1961  ...  F2013  \\\n",
      "0  Environment, Climate Change, Climate Indicator... -0.113  ...  1.281   \n",
      "1  Environment, Climate Change, Climate Indicator...  0.627  ...  1.333   \n",
      "2  Environment, Climate Change, Climate Indicator...  0.164  ...  1.192   \n",
      "3  Environment, Climate Change, Climate Indicator...  0.079  ...  1.257   \n",
      "4  Environment, Climate Change, Climate Indicator...  0.736  ...  0.831   \n",
      "\n",
      "   F2014  F2015  F2016  F2017  F2018  F2019  F2020  F2021  F2022  \n",
      "0  0.456  1.093  1.555  1.540  1.544  0.910  0.498  1.327  2.012  \n",
      "1  1.198  1.569  1.464  1.121  2.028  1.675  1.498  1.536  1.518  \n",
      "2  1.690  1.121  1.757  1.512  1.210  1.115  1.926  2.330  1.688  \n",
      "3  1.170  1.009  1.539  1.435  1.189  1.539  1.430  1.268  1.256  \n",
      "4  1.946  1.690  1.990  1.925  1.919  1.964  2.562  1.533  3.243  \n",
      "\n",
      "[5 rows x 71 columns]\n"
     ]
    }
   ],
   "source": [
    "df_dataset_01 : pd.DataFrame = pd.read_csv('datasets\\climate_change_indicators.csv')\n",
    "# Obtém o nome da primeira coluna\n",
    "first_column = df_dataset_01.columns[0]\n",
    "    \n",
    "# Verifica se a primeira coluna é numérica\n",
    "if pd.api.types.is_numeric_dtype(df_dataset_01[first_column]):\n",
    "    # Remove a primeira coluna\n",
    "    df_dataset_01 = df_dataset_01.drop(columns=[first_column])\n",
    "    print(f\"A primeira coluna '{first_column}' foi removida porque era numérica.\")\n",
    "else:\n",
    "    print(f\"A primeira coluna '{first_column}' não é numérica e não foi removida.\")\n",
    "\n",
    "\n",
    "print(df_dataset_01.head())"
   ]
  },
  {
   "cell_type": "code",
   "execution_count": null,
   "metadata": {},
   "outputs": [],
   "source": []
  }
 ],
 "metadata": {
  "kernelspec": {
   "display_name": "Python 3",
   "language": "python",
   "name": "python3"
  },
  "language_info": {
   "codemirror_mode": {
    "name": "ipython",
    "version": 3
   },
   "file_extension": ".py",
   "mimetype": "text/x-python",
   "name": "python",
   "nbconvert_exporter": "python",
   "pygments_lexer": "ipython3",
   "version": "3.11.9"
  }
 },
 "nbformat": 4,
 "nbformat_minor": 2
}
